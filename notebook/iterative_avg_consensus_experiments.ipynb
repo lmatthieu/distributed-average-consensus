{
 "cells": [
  {
   "cell_type": "markdown",
   "metadata": {
    "heading_collapsed": true
   },
   "source": [
    "## Initialization code"
   ]
  },
  {
   "cell_type": "code",
   "execution_count": 1,
   "metadata": {
    "collapsed": true,
    "hidden": true
   },
   "outputs": [],
   "source": [
    "%matplotlib inline"
   ]
  },
  {
   "cell_type": "code",
   "execution_count": 2,
   "metadata": {
    "collapsed": true,
    "hidden": true
   },
   "outputs": [],
   "source": [
    "import os\n",
    "import tempfile\n",
    "import pandas as pd\n",
    "import numpy as np\n",
    "import networkx as nx"
   ]
  },
  {
   "cell_type": "markdown",
   "metadata": {
    "heading_collapsed": true
   },
   "source": [
    "## Compilation and test of waf command"
   ]
  },
  {
   "cell_type": "markdown",
   "metadata": {
    "hidden": true
   },
   "source": [
    "The file iterative_avg_consensus.cc must be copied in the scratch folder of ns3"
   ]
  },
  {
   "cell_type": "code",
   "execution_count": 3,
   "metadata": {
    "hidden": true
   },
   "outputs": [
    {
     "name": "stdout",
     "output_type": "stream",
     "text": [
      "iterative_avg_consensus [Program Arguments] [General Arguments]\r\n",
      "\r\n",
      "Program Arguments:\r\n",
      "    --nNodes:            Number of nodes in the simulation [2]\r\n",
      "    --secsToRun:         Number of seconds to simulate [10]\r\n",
      "    --makhoul:           Use the example of makhoul thesis [0]\r\n",
      "    --path:              Output path [/tmp]\r\n",
      "    --self_stab:         Self-stabilization mode [0]\r\n",
      "    --positionRng:       Define the random generator for the position allocator [ns3::UniformRandomVariable[Min=0.0|Max=100.0]]\r\n",
      "    --distance:          Define the maximum signal range [30]\r\n",
      "    --async:             Set async mode for diffusion algorithm [0]\r\n",
      "    --seed:              Set seed value (simulation reproducibility) [42]\r\n",
      "    --run_id:            Set run id (simulation reproducibility) [0]\r\n",
      "    --graph_correction:  Run the graph correction algorithm for non-connected components [1]\r\n",
      "\r\n",
      "General Arguments:\r\n",
      "    --PrintGlobals:              Print the list of globals.\r\n",
      "    --PrintGroups:               Print the list of groups.\r\n",
      "    --PrintGroup=[group]:        Print all TypeIds of group.\r\n",
      "    --PrintTypeIds:              Print all TypeIds.\r\n",
      "    --PrintAttributes=[typeid]:  Print all attributes of typeid.\r\n",
      "    --PrintHelp:                 Print this help message.\r\n",
      "\r\n"
     ]
    }
   ],
   "source": [
    "!../cmake-build-debug/iterative_avg_consensus --PrintHelp"
   ]
  },
  {
   "cell_type": "markdown",
   "metadata": {
    "heading_collapsed": true
   },
   "source": [
    "## Simulation meta command\n",
    "\n",
    "NS_LOG=IterativeAvgConsensus=level_info "
   ]
  },
  {
   "cell_type": "code",
   "execution_count": 4,
   "metadata": {
    "collapsed": true,
    "hidden": true
   },
   "outputs": [],
   "source": [
    "def start_simulation(nnodes=20, distance=30, secs=50, test=0, self_stab=0, async=0, run_id=0,\n",
    "                    graph_correction=1):\n",
    "    if test > 0:\n",
    "        nnodes = 4\n",
    "    path = tempfile.mkdtemp()\n",
    "    cmd = '''../cmake-build-debug/iterative_avg_consensus \\\n",
    "--nNodes={nnodes} --distance={distance} \\\n",
    "--secsToRun={secs} --makhoul={test} --path={path} --self_stab={self_stab} --async={async} \\\n",
    "--run_id={run_id} --graph_correction={graph_correction}  2>&1 >/dev/null \\\n",
    "| grep \"^TR\" > {path}/ts.tsv'''.format(nnodes=nnodes,\n",
    "                                                                            distance=distance,\n",
    "                                                                           secs=secs,\n",
    "                                                                           path=path,\n",
    "                                                                           test=test,\n",
    "                                                                           self_stab=self_stab,\n",
    "                                                                           async=async,\n",
    "                                                                           run_id=run_id,\n",
    "                                                                           graph_correction=graph_correction)\n",
    "    print cmd\n",
    "    os.system(cmd)\n",
    "    trace_df = pd.read_csv(\"{path}/ts.tsv\".format(path=path), sep='\\t', \n",
    "                       names=[\"tag\", \"node\", \"sim_time\", \"nit\", \"nmsg\", \"z\", \"x\", \"energy\", \"nmove\", \"itnmove\"])\n",
    "\n",
    "    G = nx.Graph()    \n",
    "    positions = {}\n",
    "    \n",
    "    with open(\"{path}/graph.tsv\".format(path=path), \"r\") as fp:\n",
    "        # Get positions\n",
    "        for i in range(nnodes):\n",
    "            nid, x, y = fp.readline().replace(\"\\n\", \"\").split(\"\\t\")\n",
    "            G.add_node(\"node%s\" %nid, pos=(x, y))\n",
    "            positions[\"node%s\" %nid] = (float(x), float(y))\n",
    "        # Get connections\n",
    "        for connection in fp:\n",
    "            fn, tn = connection.replace(\"\\n\", \"\").split(\"\\t\")\n",
    "            G.add_edge(\"node%s\" %fn, \"node%s\" %tn)\n",
    "        G.positions = positions\n",
    "    return trace_df, G"
   ]
  },
  {
   "cell_type": "code",
   "execution_count": 5,
   "metadata": {
    "collapsed": true,
    "hidden": true
   },
   "outputs": [],
   "source": [
    "def get_epsilon(df, col, sim_avg=1.0):\n",
    "    df[\"eps\"] = abs(df.x - sim_avg)\n",
    "    return df[[col, \"eps\"]].groupby(col).agg(np.max)"
   ]
  },
  {
   "cell_type": "code",
   "execution_count": 6,
   "metadata": {
    "collapsed": true,
    "hidden": true
   },
   "outputs": [],
   "source": [
    "def get_epsilon_min(df, col, thr=10e-4, sim_avg=1.0):\n",
    "    pos, _ = np.where(get_epsilon(df, col, sim_avg)<thr)\n",
    "    if len(pos) > 0:\n",
    "        return pos[0]\n",
    "    else:\n",
    "        return None"
   ]
  },
  {
   "cell_type": "markdown",
   "metadata": {
    "heading_collapsed": true
   },
   "source": [
    "## Plotting commands"
   ]
  },
  {
   "cell_type": "code",
   "execution_count": 7,
   "metadata": {
    "collapsed": true,
    "hidden": true
   },
   "outputs": [],
   "source": [
    "def compute_convergence(df, epsilon=0.1, sim_avg=1.0, plot=False):\n",
    "    # 50 ms bucket    \n",
    "    # Conv vs time\n",
    "    conv_df = df.copy()\n",
    "    conv_df[\"sim_step\"] = (conv_df.sim_time/50).astype(int)\n",
    "    outdf = conv_df[[\"sim_step\", \"node\", \"x\"]].groupby([\"sim_step\", \"node\"]).agg(np.mean).reset_index()\n",
    "\n",
    "    #    eps_min = get_epsilon_min(outdf, col=\"sim_step\", thr=epsilon, sim_avg=sim_avg)\n",
    "    vmin = outdf[[\"x\", \"sim_step\"]].groupby(\"sim_step\").agg(np.max) - outdf[[\"x\", \"sim_step\"]].groupby(\"sim_step\").agg(np.min)\n",
    "    \n",
    "    try:\n",
    "        eps_min = np.where(vmin.x < epsilon)[0][0]\n",
    "    except:\n",
    "        eps_min = None\n",
    "\n",
    "#    if v is not None:\n",
    "#        outdf = outdf[outdf.sim_step<=v]\n",
    "    outdf.sim_step *= 50\n",
    "    conv_df.sim_step *= 50\n",
    "    pv_df = outdf.pivot(index=\"sim_step\", columns=\"node\", values=\"x\")\n",
    "    pv_df[\"nmsg\"] = conv_df[[\"nmsg\", \"sim_step\"]].groupby(\"sim_step\").agg(np.sum)\n",
    "    \n",
    "    if plot:\n",
    "        pv_df.plot(secondary_y=\"nmsg\", title=\"Convergence vs time\", grid=True)\n",
    "        \n",
    "    pv_df[\"nmove\"] = conv_df[[\"nmove\", \"sim_step\"]].groupby(\"sim_step\").agg(np.sum)\n",
    "    pv_df[\"itnmove\"] = conv_df[[\"itnmove\", \"sim_step\"]].groupby(\"sim_step\").agg(np.max)\n",
    "    \n",
    "    metrics_df = pv_df[[\"nmsg\", \"nmove\", \"itnmove\"]].copy()\n",
    "    \n",
    "    pv_df.drop([\"nmsg\"], axis=1, inplace=True)\n",
    "    pv_df[\"energy\"] = conv_df[[\"energy\", \"sim_step\"]].groupby(\"sim_step\").agg(np.mean)\n",
    "    if plot:    \n",
    "        pv_df.plot(secondary_y=\"energy\", title=\"Convergence vs time / energy\", grid=True)\n",
    "    metrics_df[\"energy\"] = pv_df[\"energy\"]\n",
    "    \n",
    "    delta_df = outdf.copy()\n",
    "#    delta_df[\"delta\"] = abs(delta_df.x - sim_avg)\n",
    "    delta_plt = delta_df[[\"x\", \"sim_step\"]].groupby(\"sim_step\").agg(np.max) - delta_df[[\"x\", \"sim_step\"]].groupby(\"sim_step\").agg(np.min)\n",
    "#    delta_plt = delta_df[[\"delta\", \"sim_step\"]].groupby(\"sim_step\").agg(np.max)\n",
    "    if plot:    \n",
    "        delta_plt.plot(title=\"Maximum delta vs time\", grid=True)\n",
    "#    metrics_df[\"delta\"] = delta_plt[\"delta\"]\n",
    "    metrics_df[\"delta\"] = delta_plt[\"x\"]\n",
    "    \n",
    "    return metrics_df, eps_min\n",
    "\n",
    "    \n",
    "    '''\n",
    "    outdf = df.pivot(index=\"nit\", columns=\"node\", values=\"x\")\n",
    "    outdf[\"nmsg\"] = df[[\"nmsg\", \"nit\"]].groupby(\"nit\").agg(np.sum)\n",
    "    if v is not None:\n",
    "        outdf = outdf[outdf.index<=v]\n",
    "    outdf.plot(secondary_y=\"nmsg\", title=\"Convergence vs iterations\", grid=True)\n",
    "    '''\n",
    "    \n",
    "    flt_out = outdf.drop([\"nmsg\"], axis=1)\n",
    "    flt_out[\"min_max_delta\"] = df[[\"x\", \"sim_step\"]].groupby(\"sim_step\").agg(np.max) - df[[\"x\", \"sim_step\"]].groupby(\"sim_step\").agg(np.min)\n",
    "    pd.DataFrame(index=outdf.nmsg, data=flt_out.values, \n",
    "                 columns=flt_out.columns).plot(secondary_y=\"min_max_delta\", \n",
    "                                               title=\"Convergence vs # messages exchanged\",\n",
    "                                              legend='reverse', grid=True)"
   ]
  },
  {
   "cell_type": "code",
   "execution_count": 8,
   "metadata": {
    "collapsed": true,
    "hidden": true
   },
   "outputs": [],
   "source": [
    "def plot_graph(G):\n",
    "    nx.draw(G, G.positions, with_labels = True)"
   ]
  },
  {
   "cell_type": "code",
   "execution_count": 9,
   "metadata": {
    "collapsed": true,
    "hidden": true
   },
   "outputs": [],
   "source": [
    "def plot_minmax(df):\n",
    "    outdf = df.pivot(index=\"nit\", columns=\"node\", values=\"x\")\n",
    "    outdf[\"delta\"] = df[[\"x\", \"nit\"]].groupby(\"nit\").agg(np.max) - df[[\"x\", \"nit\"]].groupby(\"nit\").agg(np.min)\n",
    "    outdf[\"delta\"].plot()"
   ]
  },
  {
   "cell_type": "markdown",
   "metadata": {
    "heading_collapsed": true
   },
   "source": [
    "# Experiments"
   ]
  },
  {
   "cell_type": "code",
   "execution_count": 10,
   "metadata": {
    "collapsed": true
   },
   "outputs": [],
   "source": [
    "import os"
   ]
  },
  {
   "cell_type": "code",
   "execution_count": 11,
   "metadata": {
    "collapsed": true
   },
   "outputs": [],
   "source": [
    "def experiment(meta_args, epsilon=10e-3, sim_avg=1, nbruns=1, force_run_id=None, xp_name=\"data\"):\n",
    "    try:\n",
    "        os.mkdir(xp_name)\n",
    "    except:\n",
    "        pass\n",
    "    if force_run_id is not None:\n",
    "        nbruns = 1\n",
    "    for run_id in range(nbruns):\n",
    "        if force_run_id is not None:\n",
    "            run_id = force_run_id\n",
    "        # diffusion\n",
    "        trace_results, G = start_simulation(run_id=run_id, **meta_args)\n",
    "        degree_diff = G.degree(G.nodes())\n",
    "        diam = nx.diameter(G)\n",
    "        epsilon = 0.1 * diam\n",
    "        print \"Epsilon\", epsilon\n",
    "        metrics_diffusion, eps_min_diff = compute_convergence(trace_results, epsilon=epsilon, sim_avg=sim_avg)\n",
    "        eps_min_diff = metrics_diffusion.shape[0]\n",
    "        # self-tab\n",
    "        trace_results, G = start_simulation(run_id=run_id, self_stab=1, **meta_args)\n",
    "        degree_sstab = G.degree(G.nodes())        \n",
    "        metrics_sstab, eps_min_sstab = compute_convergence(trace_results, epsilon=epsilon, sim_avg=sim_avg)\n",
    "        eps_min_sstab = metrics_sstab.shape[0]\n",
    "\n",
    "        mg = pd.merge(metrics_diffusion, metrics_sstab, how='outer', \n",
    "                      left_index=True, right_index=True, suffixes=('_diff', '_sstab'))\n",
    "        mg[\"run_id\"] = run_id\n",
    "        mg[\"xp_name\"] = xp_name\n",
    "        mg[\"eps_min_diff\"] = eps_min_diff\n",
    "        mg[\"eps_min_sstab\"] = eps_min_sstab       \n",
    "        mg[\"degree_diff\"] = np.mean(degree_diff.values())\n",
    "        mg[\"degree_sstab\"] = np.mean(degree_sstab.values())\n",
    "        mg[\"diameter\"] = diam\n",
    "        mg[\"epsilon\"] = epsilon  \n",
    "        mg.fillna(method='pad', inplace=True)\n",
    "        mg.to_csv(\"%s/run_%d.csv\" %(xp_name, run_id), sep='\\t')\n",
    "    return mg"
   ]
  },
  {
   "cell_type": "markdown",
   "metadata": {},
   "source": [
    "## Exper"
   ]
  },
  {
   "cell_type": "code",
   "execution_count": 18,
   "metadata": {},
   "outputs": [
    {
     "name": "stdout",
     "output_type": "stream",
     "text": [
      "../cmake-build-debug/iterative_avg_consensus --nNodes=200 --distance=10 --secsToRun=100 --makhoul=0 --path=/var/folders/54/w9nqxzfs4h17pdmbb40dzwfm0000gn/T/tmpcDNlLG --self_stab=0 --async=0 --run_id=0 --graph_correction=1  2>&1 >/dev/null | grep \"^TR\" > /var/folders/54/w9nqxzfs4h17pdmbb40dzwfm0000gn/T/tmpcDNlLG/ts.tsv\n",
      "Epsilon 1.9\n",
      "../cmake-build-debug/iterative_avg_consensus --nNodes=200 --distance=10 --secsToRun=100 --makhoul=0 --path=/var/folders/54/w9nqxzfs4h17pdmbb40dzwfm0000gn/T/tmpMdozpi --self_stab=1 --async=0 --run_id=0 --graph_correction=1  2>&1 >/dev/null | grep \"^TR\" > /var/folders/54/w9nqxzfs4h17pdmbb40dzwfm0000gn/T/tmpMdozpi/ts.tsv\n",
      "../cmake-build-debug/iterative_avg_consensus --nNodes=200 --distance=10 --secsToRun=100 --makhoul=0 --path=/var/folders/54/w9nqxzfs4h17pdmbb40dzwfm0000gn/T/tmp395yxR --self_stab=0 --async=0 --run_id=1 --graph_correction=1  2>&1 >/dev/null | grep \"^TR\" > /var/folders/54/w9nqxzfs4h17pdmbb40dzwfm0000gn/T/tmp395yxR/ts.tsv\n",
      "Epsilon 1.8\n",
      "../cmake-build-debug/iterative_avg_consensus --nNodes=200 --distance=10 --secsToRun=100 --makhoul=0 --path=/var/folders/54/w9nqxzfs4h17pdmbb40dzwfm0000gn/T/tmpr5Yn5N --self_stab=1 --async=0 --run_id=1 --graph_correction=1  2>&1 >/dev/null | grep \"^TR\" > /var/folders/54/w9nqxzfs4h17pdmbb40dzwfm0000gn/T/tmpr5Yn5N/ts.tsv\n",
      "../cmake-build-debug/iterative_avg_consensus --nNodes=200 --distance=10 --secsToRun=100 --makhoul=0 --path=/var/folders/54/w9nqxzfs4h17pdmbb40dzwfm0000gn/T/tmpMoOdef --self_stab=0 --async=0 --run_id=2 --graph_correction=1  2>&1 >/dev/null | grep \"^TR\" > /var/folders/54/w9nqxzfs4h17pdmbb40dzwfm0000gn/T/tmpMoOdef/ts.tsv\n",
      "Epsilon 1.4\n",
      "../cmake-build-debug/iterative_avg_consensus --nNodes=200 --distance=10 --secsToRun=100 --makhoul=0 --path=/var/folders/54/w9nqxzfs4h17pdmbb40dzwfm0000gn/T/tmpMi03c8 --self_stab=1 --async=0 --run_id=2 --graph_correction=1  2>&1 >/dev/null | grep \"^TR\" > /var/folders/54/w9nqxzfs4h17pdmbb40dzwfm0000gn/T/tmpMi03c8/ts.tsv\n",
      "../cmake-build-debug/iterative_avg_consensus --nNodes=200 --distance=10 --secsToRun=100 --makhoul=0 --path=/var/folders/54/w9nqxzfs4h17pdmbb40dzwfm0000gn/T/tmpqZ75P4 --self_stab=0 --async=0 --run_id=3 --graph_correction=1  2>&1 >/dev/null | grep \"^TR\" > /var/folders/54/w9nqxzfs4h17pdmbb40dzwfm0000gn/T/tmpqZ75P4/ts.tsv\n",
      "Epsilon 1.7\n"
     ]
    },
    {
     "name": "stderr",
     "output_type": "stream",
     "text": [
      "\n",
      "KeyboardInterrupt\n"
     ]
    }
   ],
   "source": [
    "for nnode in [200]:#[50, 100, 200, 400, 600, 800]:\n",
    "    meta_args = dict(nnodes=nnode, distance=10, secs=100, graph_correction=1)\n",
    "    mg = experiment(meta_args, nbruns=10, xp_name=\"nnodes_%d-distance_0\" %nnode)"
   ]
  },
  {
   "cell_type": "code",
   "execution_count": 20,
   "metadata": {
    "collapsed": true
   },
   "outputs": [],
   "source": [
    "EPSILON=10e-3\n",
    "SIM_AVG=1.\n",
    "line_no = 1\n",
    "distance = 0\n",
    "\n",
    "with open(\"scaling_experiments.sh\", \"w+\") as fp:\n",
    "    for run_id in range(50):\n",
    "        for nnode in [50, 100, 200, 400, 600, 800]:\n",
    "            fp.write(\"python run_experiment.py ../cmake-build-debug/iterative_avg_consensus %d %d %d\\n\" %(run_id, nnode, distance))\n",
    "            line_no += 1"
   ]
  },
  {
   "cell_type": "code",
   "execution_count": null,
   "metadata": {
    "collapsed": true
   },
   "outputs": [],
   "source": []
  }
 ],
 "metadata": {
  "kernelspec": {
   "display_name": "Python 2",
   "language": "python",
   "name": "python2"
  },
  "language_info": {
   "codemirror_mode": {
    "name": "ipython",
    "version": 2
   },
   "file_extension": ".py",
   "mimetype": "text/x-python",
   "name": "python",
   "nbconvert_exporter": "python",
   "pygments_lexer": "ipython2",
   "version": "2.7.12"
  },
  "toc": {
   "colors": {
    "hover_highlight": "#DAA520",
    "navigate_num": "#000000",
    "navigate_text": "#333333",
    "running_highlight": "#FF0000",
    "selected_highlight": "#FFD700",
    "sidebar_border": "#EEEEEE",
    "wrapper_background": "#FFFFFF"
   },
   "moveMenuLeft": true,
   "nav_menu": {
    "height": "282px",
    "width": "252px"
   },
   "navigate_menu": true,
   "number_sections": true,
   "sideBar": true,
   "threshold": 4,
   "toc_cell": false,
   "toc_section_display": "block",
   "toc_window_display": false,
   "widenNotebook": false
  }
 },
 "nbformat": 4,
 "nbformat_minor": 2
}
