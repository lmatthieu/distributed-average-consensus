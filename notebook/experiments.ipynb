{
 "cells": [
  {
   "cell_type": "code",
   "execution_count": 24,
   "metadata": {
    "collapsed": true
   },
   "outputs": [],
   "source": [
    "%matplotlib inline"
   ]
  },
  {
   "cell_type": "code",
   "execution_count": 25,
   "metadata": {
    "collapsed": true
   },
   "outputs": [],
   "source": [
    "from os import listdir\n",
    "from os.path import isfile, join\n",
    "import pandas as pd\n",
    "import numpy as np\n",
    "import math\n",
    "import matplotlib.pyplot as plt"
   ]
  },
  {
   "cell_type": "code",
   "execution_count": 26,
   "metadata": {
    "collapsed": true
   },
   "outputs": [],
   "source": [
    "def load_directory(path):\n",
    "    onlyfiles = [\"%s/%s\" %(path, f) for f in listdir(path) if isfile(join(path, f))]\n",
    "    dfs = []\n",
    "    \n",
    "    for f in onlyfiles:\n",
    "        dfs.append(pd.read_csv(f, sep='\\t'))\n",
    "    return pd.concat(dfs)"
   ]
  },
  {
   "cell_type": "code",
   "execution_count": 27,
   "metadata": {
    "collapsed": true
   },
   "outputs": [],
   "source": [
    "def load_experiments(path):\n",
    "    onlyfiles = [\"%s/%s\" %(path, f) for f in listdir(path) if isfile(join(path, f))]\n",
    "    dfs_diff = []\n",
    "    dfs_sstab = []\n",
    "    \n",
    "    for f in onlyfiles[:40]:\n",
    "        xp_df = pd.read_csv(f, sep='\\t').reset_index().set_index(\"sim_step\")\n",
    "        max_index_diff = xp_df[\"eps_min_diff\"].max()\n",
    "        max_index_sstab = xp_df[\"eps_min_sstab\"].max() \n",
    "        dfs_diff.append(xp_df[xp_df.index==max_index_diff*50])\n",
    "        dfs_sstab.append(xp_df[xp_df.index==max_index_sstab*50])\n",
    "\n",
    "    df_diff = pd.DataFrame(pd.concat(dfs_diff).reset_index().mean(axis=0)).T.set_index(\"sim_step\")\n",
    "    df_sstab = pd.DataFrame(pd.concat(dfs_sstab).reset_index().mean(axis=0)).T.set_index(\"sim_step\")\n",
    "    \n",
    "    return pd.concat([df_diff, df_sstab])"
   ]
  },
  {
   "cell_type": "code",
   "execution_count": 28,
   "metadata": {
    "collapsed": true
   },
   "outputs": [],
   "source": [
    "def compute_average_out(path):\n",
    "    onlyfiles = [\"%s/%s\" %(path, f) for f in listdir(path) if isfile(join(path, f))]\n",
    "    dfs_diff = []\n",
    "    dfs_sstab = []\n",
    "    \n",
    "    for f in onlyfiles[:40]:\n",
    "        xp_df = pd.read_csv(f, sep='\\t').reset_index().set_index(\"sim_step\")\n",
    "        max_index_diff = xp_df[\"eps_min_diff\"].max()\n",
    "        max_index_sstab = xp_df[\"eps_min_sstab\"].max() \n",
    "        diff_line = xp_df[xp_df.index==max_index_diff*50]\n",
    "        sstab_line = xp_df[xp_df.index==max_index_sstab*50]\n",
    "        return diff_line, sstab_line\n",
    "        dfs_diff.append(diff_line)\n",
    "        dfs_sstab.append(sstab_line)\n",
    "\n",
    "    df_diff = pd.DataFrame(pd.concat(dfs_diff).reset_index().mean(axis=0)).T.set_index(\"sim_step\")\n",
    "    df_sstab = pd.DataFrame(pd.concat(dfs_sstab).reset_index().mean(axis=0)).T.set_index(\"sim_step\")\n",
    "    \n",
    "    return pd.concat([df_diff, df_sstab])"
   ]
  },
  {
   "cell_type": "code",
   "execution_count": 31,
   "metadata": {},
   "outputs": [],
   "source": [
    "diff, sstab = compute_average_out(\"nnodes_100-distance_300-xpid_19/\")"
   ]
  },
  {
   "cell_type": "code",
   "execution_count": 32,
   "metadata": {},
   "outputs": [
    {
     "data": {
      "text/html": [
       "<div>\n",
       "<style>\n",
       "    .dataframe thead tr:only-child th {\n",
       "        text-align: right;\n",
       "    }\n",
       "\n",
       "    .dataframe thead th {\n",
       "        text-align: left;\n",
       "    }\n",
       "\n",
       "    .dataframe tbody tr th {\n",
       "        vertical-align: top;\n",
       "    }\n",
       "</style>\n",
       "<table border=\"1\" class=\"dataframe\">\n",
       "  <thead>\n",
       "    <tr style=\"text-align: right;\">\n",
       "      <th></th>\n",
       "      <th>index</th>\n",
       "      <th>nmsg_diff</th>\n",
       "      <th>nmove_diff</th>\n",
       "      <th>itnmove_diff</th>\n",
       "      <th>energy_diff</th>\n",
       "      <th>delta_diff</th>\n",
       "      <th>nb_x_out_diff</th>\n",
       "      <th>nmsg_sstab</th>\n",
       "      <th>nmove_sstab</th>\n",
       "      <th>itnmove_sstab</th>\n",
       "      <th>...</th>\n",
       "      <th>delta_sstab</th>\n",
       "      <th>nb_x_out_sstab</th>\n",
       "      <th>run_id</th>\n",
       "      <th>xp_name</th>\n",
       "      <th>eps_min_diff</th>\n",
       "      <th>eps_min_sstab</th>\n",
       "      <th>degree_diff</th>\n",
       "      <th>degree_sstab</th>\n",
       "      <th>diameter</th>\n",
       "      <th>epsilon</th>\n",
       "    </tr>\n",
       "    <tr>\n",
       "      <th>sim_step</th>\n",
       "      <th></th>\n",
       "      <th></th>\n",
       "      <th></th>\n",
       "      <th></th>\n",
       "      <th></th>\n",
       "      <th></th>\n",
       "      <th></th>\n",
       "      <th></th>\n",
       "      <th></th>\n",
       "      <th></th>\n",
       "      <th></th>\n",
       "      <th></th>\n",
       "      <th></th>\n",
       "      <th></th>\n",
       "      <th></th>\n",
       "      <th></th>\n",
       "      <th></th>\n",
       "      <th></th>\n",
       "      <th></th>\n",
       "      <th></th>\n",
       "      <th></th>\n",
       "    </tr>\n",
       "  </thead>\n",
       "  <tbody>\n",
       "    <tr>\n",
       "      <th>10550</th>\n",
       "      <td>210</td>\n",
       "      <td>84200</td>\n",
       "      <td>4481</td>\n",
       "      <td>0</td>\n",
       "      <td>0.919</td>\n",
       "      <td>1.88</td>\n",
       "      <td>84</td>\n",
       "      <td>21441.0</td>\n",
       "      <td>2127.0</td>\n",
       "      <td>0.0</td>\n",
       "      <td>...</td>\n",
       "      <td>1.79</td>\n",
       "      <td>76.0</td>\n",
       "      <td>0</td>\n",
       "      <td>nnodes_100-distance_300-xpid_19</td>\n",
       "      <td>211</td>\n",
       "      <td>156</td>\n",
       "      <td>2.0</td>\n",
       "      <td>2.0</td>\n",
       "      <td>31</td>\n",
       "      <td>3.1</td>\n",
       "    </tr>\n",
       "  </tbody>\n",
       "</table>\n",
       "<p>1 rows × 21 columns</p>\n",
       "</div>"
      ],
      "text/plain": [
       "          index  nmsg_diff  nmove_diff  itnmove_diff  energy_diff  delta_diff  \\\n",
       "sim_step                                                                        \n",
       "10550       210      84200        4481             0        0.919        1.88   \n",
       "\n",
       "          nb_x_out_diff  nmsg_sstab  nmove_sstab  itnmove_sstab   ...     \\\n",
       "sim_step                                                          ...      \n",
       "10550                84     21441.0       2127.0            0.0   ...      \n",
       "\n",
       "          delta_sstab  nb_x_out_sstab  run_id  \\\n",
       "sim_step                                        \n",
       "10550            1.79            76.0       0   \n",
       "\n",
       "                                  xp_name eps_min_diff  eps_min_sstab  \\\n",
       "sim_step                                                                \n",
       "10550     nnodes_100-distance_300-xpid_19          211            156   \n",
       "\n",
       "          degree_diff  degree_sstab  diameter  epsilon  \n",
       "sim_step                                                \n",
       "10550             2.0           2.0        31      3.1  \n",
       "\n",
       "[1 rows x 21 columns]"
      ]
     },
     "execution_count": 32,
     "metadata": {},
     "output_type": "execute_result"
    }
   ],
   "source": [
    "diff"
   ]
  },
  {
   "cell_type": "code",
   "execution_count": 18,
   "metadata": {
    "collapsed": true
   },
   "outputs": [],
   "source": [
    "def plot_experiment_agg(xp_path):\n",
    "    ltx_table = load_experiments(xp_path)\n",
    "    \n",
    "    with open(\"outputs/csv/%s.tex\" %xp_path, \"w+\") as fp:\n",
    "        ltx_table = ltx_table[[\"nmsg_diff\", \"delta_diff\", \"energy_diff\", \"nmove_diff\",\n",
    "                               \"nmsg_sstab\", \n",
    "                               \"delta_sstab\", \"energy_sstab\", \"nmove_sstab\"]]\n",
    "        new_cols = []\n",
    "        ltx_table[\"Time\"] = ltx_table.index\n",
    "        ltx_table[\"Algorithm\"] = [\"Diffusion\", \"Self-stab\"]\n",
    "        ltx_table[\"Degree\"] = 2\n",
    "        ltx_table = ltx_table[list(ltx_table.columns)[-3:] + list(ltx_table.columns)[:-3]]\n",
    "        for col in ltx_table.columns:\n",
    "            if col.endswith(\"_sstab\"):\n",
    "                new_cols.append((\"Self-stab\", col.split(\"_\")[0]))\n",
    "            elif col.endswith(\"_diff\"):\n",
    "                new_cols.append((\"Diffusion\", col.split(\"_\")[0]))\n",
    "            else:\n",
    "                new_cols.append((\"\\multicolumn{3}{c}{}\", col))\n",
    "        print new_cols\n",
    "        ltx_table.columns = pd.MultiIndex.from_tuples(new_cols)\n",
    "    \n",
    "    return ltx_table    "
   ]
  },
  {
   "cell_type": "code",
   "execution_count": 19,
   "metadata": {
    "collapsed": true
   },
   "outputs": [],
   "source": [
    "def plot_experiment(xp_path):\n",
    "    df = load_directory(xp_path)\n",
    "    gpdf = df.groupby([\"sim_step\", \"xp_name\"]).agg(np.mean).reset_index().set_index(\"sim_step\")\n",
    "    max_index = int(math.ceil(gpdf[[\"eps_min_diff\", \"eps_min_sstab\"]].max().max()) + 2)\n",
    "    max_index_diff = int(math.ceil(gpdf[[\"eps_min_diff\"]].max().max()))\n",
    "    max_index_sstab = int(math.ceil(gpdf[[\"eps_min_sstab\"]].max().max()))    \n",
    "    \n",
    "    ltx_table = pd.concat([gpdf[gpdf.index==max_index_diff*50], gpdf[gpdf.index==max_index_sstab*50]])\n",
    "    \n",
    "    with open(\"outputs/csv/%s.tex\" %xp_path, \"w+\") as fp:\n",
    "        ltx_table = ltx_table[[\"nmsg_diff\", \"delta_diff\", \"energy_diff\", \"nmove_diff\",\n",
    "                               \"nmsg_sstab\", \n",
    "                               \"delta_sstab\", \"energy_sstab\", \"nmove_sstab\"]]\n",
    "        new_cols = []\n",
    "        ltx_table[\"Time\"] = ltx_table.index\n",
    "        ltx_table[\"Algorithm\"] = [\"Diffusion\", \"Self-stab\"]\n",
    "        ltx_table[\"Degree\"] = gpdf[\"degree_sstab\"]\n",
    "        ltx_table = ltx_table[list(ltx_table.columns)[-3:] + list(ltx_table.columns)[:-3]]\n",
    "        for col in ltx_table.columns:\n",
    "            if col.endswith(\"_sstab\"):\n",
    "                new_cols.append((\"Self-stab\", col.split(\"_\")[0]))\n",
    "            elif col.endswith(\"_diff\"):\n",
    "                new_cols.append((\"Diffusion\", col.split(\"_\")[0]))\n",
    "            else:\n",
    "                new_cols.append((\"\\multicolumn{3}{c}{}\", col))\n",
    "        print new_cols\n",
    "        ltx_table.columns = pd.MultiIndex.from_tuples(new_cols)\n",
    "        desc = xp_path.replace(\"-\", \" and \").replace(\"_\", \" \")\n",
    "        label = xp_path.replace(\"-\", \"\").replace(\"_\", \"\")\n",
    "        fp.write(\"\\\\begin{figure}\\caption{Convergence iterations for experiment $description \\label{tab:$label}}\".replace(\"$xp_path\", xp_path).\\\n",
    "                 replace(\"$description\", desc).replace(\"$label\", label))\n",
    "        fp.write(ltx_table.to_latex(index=False, bold_rows=True, escape=False, \n",
    "                                    multirow=True, float_format=\"%.3lf\", \n",
    "                                    column_format=\"r|l|r|r|r|r|r|r|r\",\n",
    "                                    multicolumn_format=\"|c\"))        \n",
    "        fp.write(\"\\end{figure}\")\n",
    "        fp.write(\"\"\"\n",
    "\\\\begin{figure}\n",
    "  \\caption{Experiment with $description \\label{fig:$label}}\n",
    "  \\\\begin{subfigure}[b]{0.5\\\\textwidth}\n",
    "    \\includegraphics[width=\\\\textwidth]{images/$xp_path_delta.png}\n",
    "    \\caption{Maximum delta convergence \\label{fig:$label_delta}}  \n",
    "  \\end{subfigure}\n",
    "  %\n",
    "  \\\\begin{subfigure}[b]{0.5\\\\textwidth}\n",
    "    \\includegraphics[width=\\\\textwidth]{images/$xp_path_nmsg.png}\n",
    "    \\caption{Number of exchanged messages    \\label{fig:$label_nmsg}}\n",
    "  \\end{subfigure}\n",
    "  \n",
    "  \\\\begin{subfigure}[b]{0.5\\\\textwidth}\n",
    "    \\includegraphics[width=\\\\textwidth]{images/$xp_path_energy.png}\n",
    "    \\caption{Energy consumption \\label{fig:$label_energy}}\n",
    "  \\end{subfigure}\n",
    "\\end{figure}\n",
    "        \"\"\".replace(\"$xp_path\", xp_path).replace(\"$description\", desc).replace(\"$label\", label))\n",
    "        print ltx_table\n",
    "    \n",
    "    pgdf_sub = gpdf[gpdf.index <= max_index * 50]\n",
    "    pgdf_sub.index = pgdf_sub.index.rename(\"Simulation time (ms)\")\n",
    "    plt.style.use('ggplot')\n",
    "    pgdf_sub[[\"nmove_sstab\", \"nmove_diff\"]].rename(columns={\"nmove_sstab\": \"Self-stab - Moves\",\n",
    "                                              \"nmove_diff\": \"Diffusion - Moves\"}).plot(grid=True)\n",
    "    plt.axvline(x=max_index_diff * 50, color='b', linestyle='--', label=\"Diffusion convergence state\")\n",
    "    plt.axvline(x=max_index_sstab * 50, color='r', linestyle='--', label=\"Self-stab convergence state\")\n",
    "    plt.legend(loc=0)\n",
    "    plt.savefig('outputs/images/%s_nmove.png' %xp_path)\n",
    "    \n",
    "    pgdf_sub[[\"nmsg_sstab\", \"nmsg_diff\"]].rename(columns={\"nmsg_sstab\": \"Self-stab - Messages exchanged\",\n",
    "                                              \"nmsg_diff\": \"Diffusion - Messages exchanged\"}).plot(grid=True)\n",
    "    plt.axvline(x=max_index_diff * 50, color='b', linestyle='--', label=\"Diffusion convergence state\")\n",
    "    plt.axvline(x=max_index_sstab * 50, color='r', linestyle='--', label=\"Self-stab convergence state\")\n",
    "    plt.legend(loc=0)\n",
    "    plt.savefig('outputs/images/%s_nmsg.png' %xp_path)\n",
    "\n",
    "    pgdf_sub[[\"delta_sstab\", \"delta_diff\"]].rename(columns={\"delta_sstab\": \"Self-stab - Maximum delta\",\n",
    "                                              \"delta_diff\": \"Diffusion - Maximum delta\"}).plot(grid=True)\n",
    "    plt.axvline(x=max_index_diff * 50, color='b', linestyle='--', label=\"Diffusion convergence state\")\n",
    "    plt.axvline(x=max_index_sstab * 50, color='r', linestyle='--', label=\"Self-stab convergence state\")\n",
    "    plt.legend(loc=0)\n",
    "    plt.savefig('outputs/images/%s_delta.png' %xp_path)\n",
    "\n",
    "    pgdf_sub[[\"energy_sstab\", \"energy_diff\"]].rename(columns={\"energy_sstab\": \"Self-stab - Energy\",\n",
    "                                              \"energy_diff\": \"Diffusion - Energy\"}).plot(grid=True)\n",
    "    plt.axvline(x=max_index_diff * 50, color='b', linestyle='--', label=\"Diffusion convergence state\")\n",
    "    plt.axvline(x=max_index_sstab * 50, color='r', linestyle='--', label=\"Self-stab convergence state\")\n",
    "    plt.legend(loc=0)\n",
    "    plt.savefig('outputs/images/%s_energy.png' %xp_path)\n",
    "    \n",
    "    return ltx_table\n",
    "    "
   ]
  },
  {
   "cell_type": "code",
   "execution_count": 20,
   "metadata": {
    "collapsed": true
   },
   "outputs": [],
   "source": [
    "def get_metrics_line(dist, df):\n",
    "    deg = df[\"\\multicolumn{3}{c}{}\"][\"Degree\"].values[0]\n",
    "    diff = df[df[\"\\multicolumn{3}{c}{}\"][\"Algorithm\"]==\"Diffusion\"][\"Diffusion\"].reset_index()\n",
    "    sstab = df[df[\"\\multicolumn{3}{c}{}\"][\"Algorithm\"]==\"Self-stab\"][\"Self-stab\"].reset_index()\n",
    "\n",
    "    vals = diff.values.ravel().tolist() + sstab.values.ravel().tolist()\n",
    "    df = pd.DataFrame(index=[dist], data=[vals], columns=map(lambda x: \"Diffusion_\" + x, diff.columns.tolist()) \n",
    "             + map(lambda x: \"Self-stab_\" + x, sstab.columns.tolist()))\n",
    "    df[\"Degree\"] = deg\n",
    "    return df"
   ]
  },
  {
   "cell_type": "code",
   "execution_count": 15,
   "metadata": {},
   "outputs": [
    {
     "name": "stdout",
     "output_type": "stream",
     "text": [
      "[('\\\\multicolumn{3}{c}{}', 'Time'), ('\\\\multicolumn{3}{c}{}', 'Algorithm'), ('\\\\multicolumn{3}{c}{}', 'Degree'), ('Diffusion', 'nmsg'), ('Diffusion', 'delta'), ('Diffusion', 'energy'), ('Diffusion', 'nmove'), ('Self-stab', 'nmsg'), ('Self-stab', 'delta'), ('Self-stab', 'energy'), ('Self-stab', 'nmove')]\n"
     ]
    }
   ],
   "source": [
    "nnode=50\n",
    "synth = get_metrics_line(nnode, plot_experiment_agg(\"nnodes_%d-distance_42\" %nnode))"
   ]
  },
  {
   "cell_type": "code",
   "execution_count": 16,
   "metadata": {},
   "outputs": [
    {
     "data": {
      "text/html": [
       "<div>\n",
       "<style>\n",
       "    .dataframe thead tr:only-child th {\n",
       "        text-align: right;\n",
       "    }\n",
       "\n",
       "    .dataframe thead th {\n",
       "        text-align: left;\n",
       "    }\n",
       "\n",
       "    .dataframe tbody tr th {\n",
       "        vertical-align: top;\n",
       "    }\n",
       "</style>\n",
       "<table border=\"1\" class=\"dataframe\">\n",
       "  <thead>\n",
       "    <tr style=\"text-align: right;\">\n",
       "      <th></th>\n",
       "      <th>Diffusion_sim_step</th>\n",
       "      <th>Diffusion_nmsg</th>\n",
       "      <th>Diffusion_delta</th>\n",
       "      <th>Diffusion_energy</th>\n",
       "      <th>Diffusion_nmove</th>\n",
       "      <th>Self-stab_sim_step</th>\n",
       "      <th>Self-stab_nmsg</th>\n",
       "      <th>Self-stab_delta</th>\n",
       "      <th>Self-stab_energy</th>\n",
       "      <th>Self-stab_nmove</th>\n",
       "      <th>Degree</th>\n",
       "    </tr>\n",
       "  </thead>\n",
       "  <tbody>\n",
       "    <tr>\n",
       "      <th>50</th>\n",
       "      <td>6300.0</td>\n",
       "      <td>25100.0</td>\n",
       "      <td>1.34</td>\n",
       "      <td>0.9515</td>\n",
       "      <td>1883.0</td>\n",
       "      <td>5300.0</td>\n",
       "      <td>9109.0</td>\n",
       "      <td>1.24</td>\n",
       "      <td>0.97065</td>\n",
       "      <td>903.0</td>\n",
       "      <td>2</td>\n",
       "    </tr>\n",
       "  </tbody>\n",
       "</table>\n",
       "</div>"
      ],
      "text/plain": [
       "    Diffusion_sim_step  Diffusion_nmsg  Diffusion_delta  Diffusion_energy  \\\n",
       "50              6300.0         25100.0             1.34            0.9515   \n",
       "\n",
       "    Diffusion_nmove  Self-stab_sim_step  Self-stab_nmsg  Self-stab_delta  \\\n",
       "50           1883.0              5300.0          9109.0             1.24   \n",
       "\n",
       "    Self-stab_energy  Self-stab_nmove  Degree  \n",
       "50           0.97065            903.0       2  "
      ]
     },
     "execution_count": 16,
     "metadata": {},
     "output_type": "execute_result"
    }
   ],
   "source": [
    "synth"
   ]
  },
  {
   "cell_type": "code",
   "execution_count": 13,
   "metadata": {},
   "outputs": [
    {
     "data": {
      "text/plain": [
       "50    18.06\n",
       "Name: Self-stab_nmove, dtype: float64"
      ]
     },
     "execution_count": 13,
     "metadata": {},
     "output_type": "execute_result"
    }
   ],
   "source": [
    "synth[\"Self-stab_nmove\"] / synth.index.values"
   ]
  },
  {
   "cell_type": "markdown",
   "metadata": {},
   "source": [
    "## 10 nodes with 20 distance"
   ]
  },
  {
   "cell_type": "code",
   "execution_count": 14,
   "metadata": {},
   "outputs": [
    {
     "name": "stdout",
     "output_type": "stream",
     "text": [
      "[('\\\\multicolumn{3}{c}{}', 'Time'), ('\\\\multicolumn{3}{c}{}', 'Algorithm'), ('\\\\multicolumn{3}{c}{}', 'Degree'), ('Diffusion', 'nmsg'), ('Diffusion', 'delta'), ('Diffusion', 'energy'), ('Diffusion', 'nmove'), ('Self-stab', 'nmsg'), ('Self-stab', 'delta'), ('Self-stab', 'energy'), ('Self-stab', 'nmove')]\n",
      "[('\\\\multicolumn{3}{c}{}', 'Time'), ('\\\\multicolumn{3}{c}{}', 'Algorithm'), ('\\\\multicolumn{3}{c}{}', 'Degree'), ('Diffusion', 'nmsg'), ('Diffusion', 'delta'), ('Diffusion', 'energy'), ('Diffusion', 'nmove'), ('Self-stab', 'nmsg'), ('Self-stab', 'delta'), ('Self-stab', 'energy'), ('Self-stab', 'nmove')]\n",
      "[('\\\\multicolumn{3}{c}{}', 'Time'), ('\\\\multicolumn{3}{c}{}', 'Algorithm'), ('\\\\multicolumn{3}{c}{}', 'Degree'), ('Diffusion', 'nmsg'), ('Diffusion', 'delta'), ('Diffusion', 'energy'), ('Diffusion', 'nmove'), ('Self-stab', 'nmsg'), ('Self-stab', 'delta'), ('Self-stab', 'energy'), ('Self-stab', 'nmove')]\n",
      "[('\\\\multicolumn{3}{c}{}', 'Time'), ('\\\\multicolumn{3}{c}{}', 'Algorithm'), ('\\\\multicolumn{3}{c}{}', 'Degree'), ('Diffusion', 'nmsg'), ('Diffusion', 'delta'), ('Diffusion', 'energy'), ('Diffusion', 'nmove'), ('Self-stab', 'nmsg'), ('Self-stab', 'delta'), ('Self-stab', 'energy'), ('Self-stab', 'nmove')]\n",
      "[('\\\\multicolumn{3}{c}{}', 'Time'), ('\\\\multicolumn{3}{c}{}', 'Algorithm'), ('\\\\multicolumn{3}{c}{}', 'Degree'), ('Diffusion', 'nmsg'), ('Diffusion', 'delta'), ('Diffusion', 'energy'), ('Diffusion', 'nmove'), ('Self-stab', 'nmsg'), ('Self-stab', 'delta'), ('Self-stab', 'energy'), ('Self-stab', 'nmove')]\n",
      "[('\\\\multicolumn{3}{c}{}', 'Time'), ('\\\\multicolumn{3}{c}{}', 'Algorithm'), ('\\\\multicolumn{3}{c}{}', 'Degree'), ('Diffusion', 'nmsg'), ('Diffusion', 'delta'), ('Diffusion', 'energy'), ('Diffusion', 'nmove'), ('Self-stab', 'nmsg'), ('Self-stab', 'delta'), ('Self-stab', 'energy'), ('Self-stab', 'nmove')]\n"
     ]
    }
   ],
   "source": [
    "xplist = []\n",
    "for nnode in [50, 100, 200, 400, 600, 800]:\n",
    "    xplist.append(get_metrics_line(nnode, plot_experiment_agg(\"nnodes_%d-distance_300-xpid_17\" %nnode)))"
   ]
  },
  {
   "cell_type": "markdown",
   "metadata": {},
   "source": [
    "## Scaling"
   ]
  },
  {
   "cell_type": "code",
   "execution_count": 15,
   "metadata": {
    "collapsed": true
   },
   "outputs": [],
   "source": [
    "plt.style.use('ggplot')"
   ]
  },
  {
   "cell_type": "code",
   "execution_count": 16,
   "metadata": {
    "collapsed": true
   },
   "outputs": [],
   "source": [
    "synth = pd.concat(xplist)"
   ]
  },
  {
   "cell_type": "code",
   "execution_count": 17,
   "metadata": {
    "collapsed": true
   },
   "outputs": [],
   "source": [
    "synth = synth.rename(columns={\"Diffusion_nmove\": \"Diffusion nb iterations\",\n",
    "                              \"Self-stab_nmove\": \"Self-stab nb iterations\",\n",
    "                              \"Diffusion_nmsg\": \"Diffusion nb messages\",\n",
    "                              \"Self-stab_nmsg\": \"Self-stab nb messages\",\n",
    "                              \"Diffusion_energy\": \"Diffusion energy\",\n",
    "                              \"Self-stab_energy\": \"Self-stab energy\",})"
   ]
  },
  {
   "cell_type": "code",
   "execution_count": 18,
   "metadata": {},
   "outputs": [
    {
     "data": {
      "text/html": [
       "<div>\n",
       "<style>\n",
       "    .dataframe thead tr:only-child th {\n",
       "        text-align: right;\n",
       "    }\n",
       "\n",
       "    .dataframe thead th {\n",
       "        text-align: left;\n",
       "    }\n",
       "\n",
       "    .dataframe tbody tr th {\n",
       "        vertical-align: top;\n",
       "    }\n",
       "</style>\n",
       "<table border=\"1\" class=\"dataframe\">\n",
       "  <thead>\n",
       "    <tr style=\"text-align: right;\">\n",
       "      <th></th>\n",
       "      <th>Diffusion_sim_step</th>\n",
       "      <th>Diffusion nb messages</th>\n",
       "      <th>Diffusion_delta</th>\n",
       "      <th>Diffusion energy</th>\n",
       "      <th>Diffusion nb iterations</th>\n",
       "      <th>Self-stab_sim_step</th>\n",
       "      <th>Self-stab nb messages</th>\n",
       "      <th>Self-stab_delta</th>\n",
       "      <th>Self-stab energy</th>\n",
       "      <th>Self-stab nb iterations</th>\n",
       "      <th>Degree</th>\n",
       "    </tr>\n",
       "  </thead>\n",
       "  <tbody>\n",
       "    <tr>\n",
       "      <th>50</th>\n",
       "      <td>6401.25</td>\n",
       "      <td>25461.10</td>\n",
       "      <td>1.28225</td>\n",
       "      <td>0.950550</td>\n",
       "      <td>1764.100</td>\n",
       "      <td>4588.75</td>\n",
       "      <td>7774.875</td>\n",
       "      <td>1.23225</td>\n",
       "      <td>0.974856</td>\n",
       "      <td>767.525</td>\n",
       "      <td>2</td>\n",
       "    </tr>\n",
       "    <tr>\n",
       "      <th>100</th>\n",
       "      <td>8590.00</td>\n",
       "      <td>68453.10</td>\n",
       "      <td>1.62650</td>\n",
       "      <td>0.933675</td>\n",
       "      <td>3804.800</td>\n",
       "      <td>6421.25</td>\n",
       "      <td>17075.050</td>\n",
       "      <td>1.55900</td>\n",
       "      <td>0.971002</td>\n",
       "      <td>1681.550</td>\n",
       "      <td>2</td>\n",
       "    </tr>\n",
       "    <tr>\n",
       "      <th>200</th>\n",
       "      <td>11291.25</td>\n",
       "      <td>180245.65</td>\n",
       "      <td>2.09675</td>\n",
       "      <td>0.912875</td>\n",
       "      <td>7794.350</td>\n",
       "      <td>8353.75</td>\n",
       "      <td>35904.100</td>\n",
       "      <td>2.06400</td>\n",
       "      <td>0.967601</td>\n",
       "      <td>3506.400</td>\n",
       "      <td>2</td>\n",
       "    </tr>\n",
       "    <tr>\n",
       "      <th>400</th>\n",
       "      <td>12347.50</td>\n",
       "      <td>394303.35</td>\n",
       "      <td>2.31325</td>\n",
       "      <td>0.904725</td>\n",
       "      <td>15648.250</td>\n",
       "      <td>9123.75</td>\n",
       "      <td>71945.175</td>\n",
       "      <td>2.25850</td>\n",
       "      <td>0.966806</td>\n",
       "      <td>7029.250</td>\n",
       "      <td>2</td>\n",
       "    </tr>\n",
       "    <tr>\n",
       "      <th>600</th>\n",
       "      <td>13838.75</td>\n",
       "      <td>663002.00</td>\n",
       "      <td>2.55950</td>\n",
       "      <td>0.893225</td>\n",
       "      <td>23519.375</td>\n",
       "      <td>10660.00</td>\n",
       "      <td>108685.225</td>\n",
       "      <td>2.50125</td>\n",
       "      <td>0.964994</td>\n",
       "      <td>10583.675</td>\n",
       "      <td>2</td>\n",
       "    </tr>\n",
       "    <tr>\n",
       "      <th>800</th>\n",
       "      <td>14616.25</td>\n",
       "      <td>933814.25</td>\n",
       "      <td>2.59200</td>\n",
       "      <td>0.887275</td>\n",
       "      <td>32565.150</td>\n",
       "      <td>11317.50</td>\n",
       "      <td>150241.925</td>\n",
       "      <td>2.52025</td>\n",
       "      <td>0.963521</td>\n",
       "      <td>14664.025</td>\n",
       "      <td>2</td>\n",
       "    </tr>\n",
       "  </tbody>\n",
       "</table>\n",
       "</div>"
      ],
      "text/plain": [
       "     Diffusion_sim_step  Diffusion nb messages  Diffusion_delta  \\\n",
       "50              6401.25               25461.10          1.28225   \n",
       "100             8590.00               68453.10          1.62650   \n",
       "200            11291.25              180245.65          2.09675   \n",
       "400            12347.50              394303.35          2.31325   \n",
       "600            13838.75              663002.00          2.55950   \n",
       "800            14616.25              933814.25          2.59200   \n",
       "\n",
       "     Diffusion energy  Diffusion nb iterations  Self-stab_sim_step  \\\n",
       "50           0.950550                 1764.100             4588.75   \n",
       "100          0.933675                 3804.800             6421.25   \n",
       "200          0.912875                 7794.350             8353.75   \n",
       "400          0.904725                15648.250             9123.75   \n",
       "600          0.893225                23519.375            10660.00   \n",
       "800          0.887275                32565.150            11317.50   \n",
       "\n",
       "     Self-stab nb messages  Self-stab_delta  Self-stab energy  \\\n",
       "50                7774.875          1.23225          0.974856   \n",
       "100              17075.050          1.55900          0.971002   \n",
       "200              35904.100          2.06400          0.967601   \n",
       "400              71945.175          2.25850          0.966806   \n",
       "600             108685.225          2.50125          0.964994   \n",
       "800             150241.925          2.52025          0.963521   \n",
       "\n",
       "     Self-stab nb iterations  Degree  \n",
       "50                   767.525       2  \n",
       "100                 1681.550       2  \n",
       "200                 3506.400       2  \n",
       "400                 7029.250       2  \n",
       "600                10583.675       2  \n",
       "800                14664.025       2  "
      ]
     },
     "execution_count": 18,
     "metadata": {},
     "output_type": "execute_result"
    }
   ],
   "source": [
    "synth"
   ]
  },
  {
   "cell_type": "code",
   "execution_count": 19,
   "metadata": {
    "collapsed": true
   },
   "outputs": [],
   "source": [
    "#synth[\"Self-stab_nmove\"].values.reshape(1, 6)"
   ]
  },
  {
   "cell_type": "code",
   "execution_count": 20,
   "metadata": {},
   "outputs": [
    {
     "name": "stdout",
     "output_type": "stream",
     "text": [
      "Line Solution is y = 18.32 x + -194.23\n"
     ]
    }
   ],
   "source": [
    "from numpy import ones,vstack\n",
    "from numpy.linalg import lstsq\n",
    "\n",
    "points = [(x, y) for x, y in zip(synth.index.values, synth[\"Self-stab nb iterations\"].values)]\n",
    "x_coords, y_coords = zip(*points)\n",
    "A = vstack([x_coords,ones(len(x_coords))]).T\n",
    "m, c = lstsq(A, y_coords)[0]\n",
    "\n",
    "print \"Line Solution is y = %.2lf x + %.2lf\" %(m,c)"
   ]
  },
  {
   "cell_type": "code",
   "execution_count": 21,
   "metadata": {},
   "outputs": [
    {
     "data": {
      "text/plain": [
       "50     15.350500\n",
       "100    16.815500\n",
       "200    17.532000\n",
       "400    17.573125\n",
       "600    17.639458\n",
       "800    18.330031\n",
       "Name: Self-stab nb iterations, dtype: float64"
      ]
     },
     "execution_count": 21,
     "metadata": {},
     "output_type": "execute_result"
    }
   ],
   "source": [
    "synth[\"Self-stab nb iterations\"] / synth.index.values"
   ]
  },
  {
   "cell_type": "code",
   "execution_count": 33,
   "metadata": {},
   "outputs": [
    {
     "data": {
      "image/png": "[encoded data removed]",
      "text/plain": [
       "<matplotlib.figure.Figure at 0x111dd5bd0>"
      ]
     },
     "metadata": {},
     "output_type": "display_data"
    }
   ],
   "source": [
    "avg_move = synth[[\"Diffusion nb iterations\", \"Self-stab nb iterations\"]].copy()\n",
    "avg_move[\"Diffusion nb iterations\"] /= avg_move.index.values\n",
    "avg_move[\"Self-stab nb iterations\"] /= avg_move.index.values\n",
    "\n",
    "avg_move[[\"Self-stab nb iterations\"]].plot()\n",
    "plt.savefig('results/images/v2_avg_nmove.png')"
   ]
  },
  {
   "cell_type": "code",
   "execution_count": 23,
   "metadata": {},
   "outputs": [
    {
     "data": {
      "image/png": "[encoded data removed]",
      "text/plain": [
       "<matplotlib.figure.Figure at 0x10e086890>"
      ]
     },
     "metadata": {},
     "output_type": "display_data"
    }
   ],
   "source": [
    "synth[[\"Diffusion nb iterations\", \"Self-stab nb iterations\"]].plot()\n",
    "plt.savefig('results/images/v2_nmove.png')"
   ]
  },
  {
   "cell_type": "code",
   "execution_count": 24,
   "metadata": {},
   "outputs": [
    {
     "data": {
      "image/png": "[encoded data removed]",
      "text/plain": [
       "<matplotlib.figure.Figure at 0x1117d3510>"
      ]
     },
     "metadata": {},
     "output_type": "display_data"
    }
   ],
   "source": [
    "synth[[\"Diffusion nb messages\", \"Self-stab nb messages\"]].plot()\n",
    "plt.savefig('results/images/v2_nmsg.png')"
   ]
  },
  {
   "cell_type": "code",
   "execution_count": 25,
   "metadata": {},
   "outputs": [
    {
     "data": {
      "text/plain": [
       "50     3.274792\n",
       "100    4.008955\n",
       "200    5.020197\n",
       "400    5.480609\n",
       "600    6.100204\n",
       "800    6.215404\n",
       "dtype: float64"
      ]
     },
     "execution_count": 25,
     "metadata": {},
     "output_type": "execute_result"
    }
   ],
   "source": [
    "synth[\"Diffusion nb messages\"] / synth[\"Self-stab nb messages\"]"
   ]
  },
  {
   "cell_type": "code",
   "execution_count": 26,
   "metadata": {},
   "outputs": [
    {
     "name": "stdout",
     "output_type": "stream",
     "text": [
      "Line Solution is y = 188.03 x + -2108.07\n"
     ]
    }
   ],
   "source": [
    "from numpy import ones,vstack\n",
    "from numpy.linalg import lstsq\n",
    "\n",
    "points = [(x, y) for x, y in zip(synth.index.values, synth[\"Self-stab nb messages\"].values)]\n",
    "x_coords, y_coords = zip(*points)\n",
    "A = vstack([x_coords,ones(len(x_coords))]).T\n",
    "m, c = lstsq(A, y_coords)[0]\n",
    "\n",
    "print \"Line Solution is y = %.2lf x + %.2lf\" %(m,c)"
   ]
  },
  {
   "cell_type": "code",
   "execution_count": 42,
   "metadata": {},
   "outputs": [
    {
     "data": {
      "image/png": "[encoded data removed]",
      "text/plain": [
       "<matplotlib.figure.Figure at 0x10e260390>"
      ]
     },
     "metadata": {},
     "output_type": "display_data"
    }
   ],
   "source": [
    "tm = synth[[\"Diffusion_sim_step\", \"Self-stab_sim_step\"]] / 1000.\n",
    "tm.rename(columns={\"Diffusion_sim_step\": \"Diffusion simulated time\",\n",
    "                                                                   \"Self-stab_sim_step\": \"Self-stab simulated time\"}).plot()\n",
    "plt.savefig('results/images/v2_parallel_simulated_time.png')"
   ]
  },
  {
   "cell_type": "code",
   "execution_count": 43,
   "metadata": {
    "collapsed": true
   },
   "outputs": [],
   "source": [
    "synth[\"Diffusion_seq_time\"] = (synth[\"Diffusion nb iterations\"] * 50)/1000.\n",
    "synth[\"Self-stab_seq_time\"] = (synth[\"Self-stab nb iterations\"] * 50)/1000."
   ]
  },
  {
   "cell_type": "code",
   "execution_count": 44,
   "metadata": {},
   "outputs": [
    {
     "data": {
      "image/png": "[encoded data removed]",
      "text/plain": [
       "<matplotlib.figure.Figure at 0x111d83d90>"
      ]
     },
     "metadata": {},
     "output_type": "display_data"
    }
   ],
   "source": [
    "synth[[\"Diffusion_seq_time\", \"Self-stab_seq_time\"]].rename(columns={\"Diffusion_seq_time\": \"Diffusion simulated time\",\n",
    "                                                                   \"Self-stab_seq_time\": \"Self-stab simulated time\"}).plot()\n",
    "plt.savefig('results/images/v2_seq_simulated_time.png')"
   ]
  },
  {
   "cell_type": "code",
   "execution_count": 28,
   "metadata": {},
   "outputs": [
    {
     "data": {
      "image/png": "[encoded data removed]",
      "text/plain": [
       "<matplotlib.figure.Figure at 0x111a101d0>"
      ]
     },
     "metadata": {},
     "output_type": "display_data"
    }
   ],
   "source": [
    "synth[[\"Diffusion energy\", \"Self-stab energy\"]].plot()\n",
    "plt.savefig('results/images/v2_energy.png')"
   ]
  },
  {
   "cell_type": "code",
   "execution_count": 29,
   "metadata": {},
   "outputs": [
    {
     "data": {
      "image/png": "[encoded data removed]",
      "text/plain": [
       "<matplotlib.figure.Figure at 0x111c92610>"
      ]
     },
     "metadata": {},
     "output_type": "display_data"
    }
   ],
   "source": [
    "synth[[\"Degree\"]].plot()\n",
    "plt.savefig('outputs/images/scale_degree.png')"
   ]
  },
  {
   "cell_type": "code",
   "execution_count": null,
   "metadata": {
    "collapsed": true
   },
   "outputs": [],
   "source": []
  }
 ],
 "metadata": {
  "kernelspec": {
   "display_name": "Python 2",
   "language": "python",
   "name": "python2"
  },
  "language_info": {
   "codemirror_mode": {
    "name": "ipython",
    "version": 2
   },
   "file_extension": ".py",
   "mimetype": "text/x-python",
   "name": "python",
   "nbconvert_exporter": "python",
   "pygments_lexer": "ipython2",
   "version": "2.7.12"
  }
 },
 "nbformat": 4,
 "nbformat_minor": 2
}
